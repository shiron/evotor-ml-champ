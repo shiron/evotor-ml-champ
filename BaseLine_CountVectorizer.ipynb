{
 "cells": [
  {
   "cell_type": "code",
   "execution_count": 1,
   "metadata": {
    "collapsed": false
   },
   "outputs": [
    {
     "name": "stdout",
     "output_type": "stream",
     "text": [
      "Populating the interactive namespace from numpy and matplotlib\n"
     ]
    }
   ],
   "source": [
    "import numpy as np\n",
    "import pandas as pd\n",
    "%pylab inline"
   ]
  },
  {
   "cell_type": "markdown",
   "metadata": {},
   "source": [
    "# Загрузка данных"
   ]
  },
  {
   "cell_type": "code",
   "execution_count": 2,
   "metadata": {
    "collapsed": true
   },
   "outputs": [],
   "source": [
    "train_data = pd.read_csv('./data/evo_train.csv', sep=',', header=0)\n",
    "test_data = pd.read_csv('./data/evo_test.csv', sep=',', header=0)"
   ]
  },
  {
   "cell_type": "code",
   "execution_count": 3,
   "metadata": {
    "collapsed": false
   },
   "outputs": [
    {
     "name": "stdout",
     "output_type": "stream",
     "text": [
      "(55860, 3)\n",
      "(37240, 2)\n"
     ]
    }
   ],
   "source": [
    "print train_data.shape\n",
    "print test_data.shape"
   ]
  },
  {
   "cell_type": "code",
   "execution_count": 4,
   "metadata": {
    "collapsed": false
   },
   "outputs": [
    {
     "data": {
      "text/html": [
       "<div>\n",
       "<table border=\"1\" class=\"dataframe\">\n",
       "  <thead>\n",
       "    <tr style=\"text-align: right;\">\n",
       "      <th></th>\n",
       "      <th>NAME</th>\n",
       "      <th>GROUP_ID</th>\n",
       "      <th>id</th>\n",
       "    </tr>\n",
       "  </thead>\n",
       "  <tbody>\n",
       "    <tr>\n",
       "      <th>0</th>\n",
       "      <td>Пиво \"Жигулевское\" 0,5 л. св.</td>\n",
       "      <td>35</td>\n",
       "      <td>0</td>\n",
       "    </tr>\n",
       "    <tr>\n",
       "      <th>1</th>\n",
       "      <td>СОУС ТОМАТНЫЙ БУЗДЯК 670Г ТАТАРСКИЙ /8</td>\n",
       "      <td>6</td>\n",
       "      <td>1</td>\n",
       "    </tr>\n",
       "    <tr>\n",
       "      <th>2</th>\n",
       "      <td>Сигареты  Esse SS Exchange</td>\n",
       "      <td>7</td>\n",
       "      <td>2</td>\n",
       "    </tr>\n",
       "    <tr>\n",
       "      <th>3</th>\n",
       "      <td>Петрушка</td>\n",
       "      <td>6</td>\n",
       "      <td>3</td>\n",
       "    </tr>\n",
       "    <tr>\n",
       "      <th>4</th>\n",
       "      <td>пиво ягерь</td>\n",
       "      <td>35</td>\n",
       "      <td>4</td>\n",
       "    </tr>\n",
       "  </tbody>\n",
       "</table>\n",
       "</div>"
      ],
      "text/plain": [
       "                                     NAME  GROUP_ID  id\n",
       "0           Пиво \"Жигулевское\" 0,5 л. св.        35   0\n",
       "1  СОУС ТОМАТНЫЙ БУЗДЯК 670Г ТАТАРСКИЙ /8         6   1\n",
       "2              Сигареты  Esse SS Exchange         7   2\n",
       "3                                Петрушка         6   3\n",
       "4                              пиво ягерь        35   4"
      ]
     },
     "execution_count": 4,
     "metadata": {},
     "output_type": "execute_result"
    }
   ],
   "source": [
    "train_data.head()"
   ]
  },
  {
   "cell_type": "markdown",
   "metadata": {},
   "source": [
    "# Выходная переменная"
   ]
  },
  {
   "cell_type": "code",
   "execution_count": 5,
   "metadata": {
    "collapsed": false
   },
   "outputs": [
    {
     "data": {
      "text/plain": [
       "7     6045\n",
       "6     6014\n",
       "24    5975\n",
       "14    5972\n",
       "34    5963\n",
       "35    5957\n",
       "30    3050\n",
       "26    2999\n",
       "25    2961\n",
       "29     639\n",
       "28     633\n",
       "9      626\n",
       "37     618\n",
       "17     616\n",
       "18     613\n",
       "16     612\n",
       "20     608\n",
       "59     607\n",
       "27     606\n",
       "19     604\n",
       "22     603\n",
       "21     587\n",
       "52     586\n",
       "60     584\n",
       "36     572\n",
       "12     568\n",
       "38     394\n",
       "15     235\n",
       "32      13\n",
       "Name: GROUP_ID, dtype: int64"
      ]
     },
     "execution_count": 5,
     "metadata": {},
     "output_type": "execute_result"
    }
   ],
   "source": [
    "train_data.GROUP_ID.value_counts()"
   ]
  },
  {
   "cell_type": "markdown",
   "metadata": {},
   "source": [
    "Посмотрим самые частые и самые редкие категории."
   ]
  },
  {
   "cell_type": "code",
   "execution_count": 6,
   "metadata": {
    "collapsed": false
   },
   "outputs": [
    {
     "data": {
      "text/plain": [
       "1                СОУС ТОМАТНЫЙ БУЗДЯК 670Г ТАТАРСКИЙ /8\n",
       "3                                              Петрушка\n",
       "5     Детский мармелад \"Trolls\" Черничка Лакомства д...\n",
       "33    КОЛБАСА В/К ОХЛ САЛЯМИ ФОРТУНА (ИНД) ИШИМСКИЙ ...\n",
       "34                                         Кексы шокол.\n",
       "36                 ШОК.БАТОНЧИК СНИКЕРС лесной орех 81г\n",
       "37                                     Салат   \"Цезарь\"\n",
       "39     Олимп Вэй Протеин Комплекс 2.27 кг. крем печенье\n",
       "61    КИСЛИЦА ЖЕВ. РЕЗИНКА С ФРУКТОВОЙ НАЧ. (СРОК 12...\n",
       "66    ТЕМНЫЙ ШОКОЛАД С ЦЕЛЬНЫМИ ЛЕСНЫМИ ОРЕХАМИ 100Г...\n",
       "Name: NAME, dtype: object"
      ]
     },
     "execution_count": 6,
     "metadata": {},
     "output_type": "execute_result"
    }
   ],
   "source": [
    "train_data[train_data.GROUP_ID == 6]['NAME'].head(10)"
   ]
  },
  {
   "cell_type": "markdown",
   "metadata": {},
   "source": [
    "* 7 = сигареты\n",
    "* 6 = продукты питания\n",
    "* 32 = позиция по свободной цене"
   ]
  },
  {
   "cell_type": "markdown",
   "metadata": {},
   "source": [
    "# Предобработка данных"
   ]
  },
  {
   "cell_type": "markdown",
   "metadata": {},
   "source": [
    "!!По-хорошему:\n",
    "1. К нижнему регистру\n",
    "2. Вычистить стоп-слова и знаки препинания\n",
    "3. Лемматизация\n",
    "4. CountVectorizer, TFIDF, Word2Vec"
   ]
  },
  {
   "cell_type": "code",
   "execution_count": 7,
   "metadata": {
    "collapsed": false
   },
   "outputs": [],
   "source": [
    "# удаление спецсимволов\n",
    "import re\n",
    "\n",
    "def remove_special_character(somestring):\n",
    "    pattern = re.compile(u'[^a-zA-Zа-яА-Я0-9_]+')\n",
    "    tokens = pattern.sub(' ', somestring).strip()\n",
    "    return tokens\n",
    "\n",
    "train_data['NAME'] = train_data['NAME'].str.decode('utf-8')\n",
    "train_data['NAME'] = train_data['NAME'].apply(remove_special_character)\n",
    "\n",
    "test_data['NAME'] = test_data['NAME'].str.decode('utf-8')\n",
    "test_data['NAME'] = test_data['NAME'].apply(remove_special_character)"
   ]
  },
  {
   "cell_type": "code",
   "execution_count": 8,
   "metadata": {
    "collapsed": false
   },
   "outputs": [],
   "source": [
    "# лемматизация\n",
    "from pymystem3 import Mystem\n",
    "\n",
    "m = Mystem()\n",
    "def lemmatize(text):\n",
    "    lemmas = m.lemmatize(text)\n",
    "    return (''.join(lemmas)).strip()\n",
    "\n",
    "train_data['NAME'] = train_data['NAME'].apply(lemmatize)\n",
    "test_data['NAME'] = test_data['NAME'].apply(lemmatize)"
   ]
  },
  {
   "cell_type": "code",
   "execution_count": 9,
   "metadata": {
    "collapsed": false
   },
   "outputs": [
    {
     "data": {
      "text/plain": [
       "0                            пиво жигулевский 0 5 л св\n",
       "1                соус томатный буздяк 670Г татарский 8\n",
       "2                            сигарета Esse SS Exchange\n",
       "3                                             петрушка\n",
       "4                                           пиво ягерь\n",
       "5    детский мармелад Trolls черничка лакомство для...\n",
       "6       ооо продукт 24часа ведение бух учет за февраль\n",
       "7                        кисточка для тень и хайлайтер\n",
       "8                    свеча фонтан тортовый 12 5см 1 шт\n",
       "9                            сумка sti 06CH 634_ black\n",
       "Name: NAME, dtype: object"
      ]
     },
     "execution_count": 9,
     "metadata": {},
     "output_type": "execute_result"
    }
   ],
   "source": [
    "train_data['NAME'].head(10)"
   ]
  },
  {
   "cell_type": "markdown",
   "metadata": {},
   "source": [
    "# Эксперимент с CountVectorizer и RF"
   ]
  },
  {
   "cell_type": "code",
   "execution_count": 10,
   "metadata": {
    "collapsed": false
   },
   "outputs": [],
   "source": [
    "from sklearn.feature_extraction.text import CountVectorizer\n",
    "from sklearn.model_selection import cross_val_score\n",
    "from sklearn.ensemble import RandomForestClassifier"
   ]
  },
  {
   "cell_type": "code",
   "execution_count": 14,
   "metadata": {
    "collapsed": false
   },
   "outputs": [
    {
     "name": "stdout",
     "output_type": "stream",
     "text": [
      "Max features:  100\n",
      "Score:  0.580737684393\n",
      "Max features:  200\n",
      "Score:  0.648299136115\n",
      "Max features:  300\n",
      "Score:  0.692051717589\n",
      "Max features:  400\n",
      "Score:  0.727013852112\n",
      "Max features:  500\n",
      "Score:  0.74677710861\n",
      "Max features:  600\n",
      "Score:  0.766003774761\n",
      "Max features:  700\n",
      "Score:  0.779412534701\n",
      "Max features:  800\n",
      "Score:  0.790099972727\n",
      "Max features:  900\n",
      "Score:  0.793913072669\n"
     ]
    }
   ],
   "source": [
    "max_features = range(100, 1000, 100)\n",
    "\n",
    "for mf in max_features:\n",
    "    cv = CountVectorizer(max_features=mf)\n",
    "    cv_train_data = cv.fit_transform(train_data['NAME'])\n",
    "    rf = RandomForestClassifier(n_estimators=200, random_state=11)\n",
    "    scores = cross_val_score(rf, cv_train_data, train_data['GROUP_ID'], cv=2, scoring='accuracy')\n",
    "    \n",
    "    print 'Max features: ', mf\n",
    "    print 'Score: ', scores.mean()"
   ]
  },
  {
   "cell_type": "code",
   "execution_count": 11,
   "metadata": {
    "collapsed": false
   },
   "outputs": [
    {
     "data": {
      "text/plain": [
       "RandomForestClassifier(bootstrap=True, class_weight=None, criterion='gini',\n",
       "            max_depth=None, max_features='auto', max_leaf_nodes=None,\n",
       "            min_impurity_split=1e-07, min_samples_leaf=1,\n",
       "            min_samples_split=2, min_weight_fraction_leaf=0.0,\n",
       "            n_estimators=400, n_jobs=1, oob_score=False, random_state=11,\n",
       "            verbose=0, warm_start=False)"
      ]
     },
     "execution_count": 11,
     "metadata": {},
     "output_type": "execute_result"
    }
   ],
   "source": [
    "# пробное решение\n",
    "cv = CountVectorizer(max_features=1200)\n",
    "cv_train_data = cv.fit_transform(train_data['NAME'])\n",
    "cv_test_data = cv.transform(test_data['NAME'])\n",
    "\n",
    "rf = RandomForestClassifier(n_estimators=400, random_state=11)\n",
    "rf.fit(cv_train_data, train_data['GROUP_ID'])"
   ]
  },
  {
   "cell_type": "code",
   "execution_count": 13,
   "metadata": {
    "collapsed": false
   },
   "outputs": [],
   "source": [
    "predict_rf = rf.predict(cv_test_data)\n",
    "test_data['GROUP_ID'] = predict_rf"
   ]
  },
  {
   "cell_type": "code",
   "execution_count": 14,
   "metadata": {
    "collapsed": false
   },
   "outputs": [
    {
     "data": {
      "text/html": [
       "<div>\n",
       "<table border=\"1\" class=\"dataframe\">\n",
       "  <thead>\n",
       "    <tr style=\"text-align: right;\">\n",
       "      <th></th>\n",
       "      <th>NAME</th>\n",
       "      <th>id</th>\n",
       "      <th>GROUP_ID</th>\n",
       "    </tr>\n",
       "  </thead>\n",
       "  <tbody>\n",
       "    <tr>\n",
       "      <th>0</th>\n",
       "      <td>пиво рижский светлый 0 5л</td>\n",
       "      <td>0</td>\n",
       "      <td>35</td>\n",
       "    </tr>\n",
       "    <tr>\n",
       "      <th>1</th>\n",
       "      <td>плавленый сыр король сыр 80г</td>\n",
       "      <td>1</td>\n",
       "      <td>6</td>\n",
       "    </tr>\n",
       "    <tr>\n",
       "      <th>2</th>\n",
       "      <td>заказ имл 7500342101814</td>\n",
       "      <td>2</td>\n",
       "      <td>9</td>\n",
       "    </tr>\n",
       "    <tr>\n",
       "      <th>3</th>\n",
       "      <td>мерриес трусики М58</td>\n",
       "      <td>3</td>\n",
       "      <td>26</td>\n",
       "    </tr>\n",
       "    <tr>\n",
       "      <th>4</th>\n",
       "      <td>лупа канц маленький</td>\n",
       "      <td>4</td>\n",
       "      <td>7</td>\n",
       "    </tr>\n",
       "  </tbody>\n",
       "</table>\n",
       "</div>"
      ],
      "text/plain": [
       "                           NAME  id  GROUP_ID\n",
       "0     пиво рижский светлый 0 5л   0        35\n",
       "1  плавленый сыр король сыр 80г   1         6\n",
       "2       заказ имл 7500342101814   2         9\n",
       "3           мерриес трусики М58   3        26\n",
       "4           лупа канц маленький   4         7"
      ]
     },
     "execution_count": 14,
     "metadata": {},
     "output_type": "execute_result"
    }
   ],
   "source": [
    "test_data.head()"
   ]
  },
  {
   "cell_type": "code",
   "execution_count": 19,
   "metadata": {
    "collapsed": false
   },
   "outputs": [],
   "source": [
    "test_data[['id', 'GROUP_ID']].to_csv('res_3105.csv', sep=',', header=True, index=False)"
   ]
  },
  {
   "cell_type": "markdown",
   "metadata": {
    "collapsed": true
   },
   "source": [
    "# NaiveBayes"
   ]
  },
  {
   "cell_type": "code",
   "execution_count": 16,
   "metadata": {
    "collapsed": true
   },
   "outputs": [],
   "source": [
    "from sklearn.naive_bayes import MultinomialNB"
   ]
  },
  {
   "cell_type": "code",
   "execution_count": 17,
   "metadata": {
    "collapsed": true
   },
   "outputs": [],
   "source": [
    "mnb = MultinomialNB()\n",
    "scores = cross_val_score(mnb, cv_train_data, train_data['GROUP_ID'], cv=3, scoring='accuracy')"
   ]
  },
  {
   "cell_type": "code",
   "execution_count": 18,
   "metadata": {
    "collapsed": false
   },
   "outputs": [
    {
     "name": "stdout",
     "output_type": "stream",
     "text": [
      "[ 0.8041868   0.80769024  0.80810361]\n"
     ]
    }
   ],
   "source": [
    "print scores"
   ]
  },
  {
   "cell_type": "code",
   "execution_count": null,
   "metadata": {
    "collapsed": true
   },
   "outputs": [],
   "source": []
  }
 ],
 "metadata": {
  "anaconda-cloud": {},
  "kernelspec": {
   "display_name": "Python [conda root]",
   "language": "python",
   "name": "conda-root-py"
  },
  "language_info": {
   "codemirror_mode": {
    "name": "ipython",
    "version": 2
   },
   "file_extension": ".py",
   "mimetype": "text/x-python",
   "name": "python",
   "nbconvert_exporter": "python",
   "pygments_lexer": "ipython2",
   "version": "2.7.12"
  }
 },
 "nbformat": 4,
 "nbformat_minor": 2
}
